{
 "cells": [
  {
   "cell_type": "markdown",
   "metadata": {},
   "source": [
    "# Coronavirus News Sentiment: Fox News vs CNN"
   ]
  },
  {
   "cell_type": "markdown",
   "metadata": {},
   "source": [
    "### Get the articles (limit of 100) for developer account unfortunately"
   ]
  },
  {
   "cell_type": "code",
   "execution_count": 159,
   "metadata": {},
   "outputs": [],
   "source": [
    "from newsapi import NewsApiClient\n",
    "from IPython import display\n",
    "import math\n",
    "from pprint import pprint\n",
    "import pandas as pd\n",
    "import numpy as np\n",
    "import nltk\n",
    "import matplotlib.pyplot as plt\n",
    "import seaborn as sns\n",
    "sns.set(style='darkgrid', context='talk', palette='Dark2')\n",
    "#from pandas.io.json import json_normalize\n",
    "\n",
    "# Init\n",
    "newsapi = NewsApiClient(api_key='43f140ef71bd401f8a3add1c1e514b17')\n",
    "\n",
    "fox_articles = newsapi.get_everything(q='coronavirus', sources=\"fox-news\", page_size=100, sort_by=\"publishedAt\", language=\"en\")[\"articles\"]\n",
    "cnn_articles = newsapi.get_everything(q='coronavirus', sources=\"cnn\", page_size=100, sort_by=\"publishedAt\", language=\"en\")[\"articles\"]"
   ]
  },
  {
   "cell_type": "markdown",
   "metadata": {},
   "source": [
    "### Use VADER to get the sentiment scores"
   ]
  },
  {
   "cell_type": "code",
   "execution_count": 160,
   "metadata": {},
   "outputs": [],
   "source": [
    "from nltk.sentiment.vader import SentimentIntensityAnalyzer as SIA\n",
    "\n",
    "sia = SIA()\n",
    "fox_sentiment_results = []\n",
    "cnn_sentiment_results = []\n",
    "\n",
    "for article in fox_articles:\n",
    "    if article[\"description\"] == None:\n",
    "        continue\n",
    "    pol_score = sia.polarity_scores(article[\"description\"])\n",
    "    pol_score['headline'] = article[\"description\"]\n",
    "    fox_sentiment_results.append(pol_score)\n",
    "\n",
    "    \n",
    "for article in cnn_articles:\n",
    "    if article[\"description\"] == None:\n",
    "        continue\n",
    "    pol_score = sia.polarity_scores(article[\"description\"])\n",
    "    pol_score['headline'] = article[\"description\"]\n",
    "    cnn_sentiment_results.append(pol_score)"
   ]
  },
  {
   "cell_type": "markdown",
   "metadata": {},
   "source": [
    "### Create dataframes from results and assign labels based on compound threshold"
   ]
  },
  {
   "cell_type": "code",
   "execution_count": 161,
   "metadata": {},
   "outputs": [],
   "source": [
    "fox_df = pd.DataFrame.from_records(fox_sentiment_results)\n",
    "cnn_df = pd.DataFrame.from_records(cnn_sentiment_results)"
   ]
  },
  {
   "cell_type": "code",
   "execution_count": 162,
   "metadata": {},
   "outputs": [],
   "source": [
    "fox_df['label'] = 0\n",
    "fox_df.loc[fox_df['compound'] > 0.2, 'label'] = 1\n",
    "fox_df.loc[fox_df['compound'] < -0.2, 'label'] = -1\n",
    "\n",
    "fox_df = fox_df[['headline', 'label']]"
   ]
  },
  {
   "cell_type": "code",
   "execution_count": 163,
   "metadata": {},
   "outputs": [],
   "source": [
    "cnn_df['label'] = 0\n",
    "cnn_df.loc[cnn_df['compound'] > 0.2, 'label'] = 1\n",
    "cnn_df.loc[cnn_df['compound'] < -0.2, 'label'] = -1\n",
    "\n",
    "cnn_df = cnn_df[['headline', 'label']]"
   ]
  },
  {
   "cell_type": "markdown",
   "metadata": {},
   "source": [
    "### Fox News Headline Sample"
   ]
  },
  {
   "cell_type": "code",
   "execution_count": 164,
   "metadata": {},
   "outputs": [
    {
     "name": "stdout",
     "output_type": "stream",
     "text": [
      "Positive headlines:\n",
      "\n",
      "['Justina Machado is grateful to be back.',\n",
      " 'Ranjit Chowdhry, best known for playing Vikram on “The Office,” has died at 64.',\n",
      " '\"Special Report\" anchor Bret Baier joined \"Hannity\" Friday night to give an update on his report on the suspected origins of the coronavirus in China.',\n",
      " 'Longtime Republican political consultant Roger Stone is praying for justice and hoping for a presidential pardon, the 67-year-old Connecticut native said after his court-imposed gag order was '\n",
      " 'recently lifted -- as he will be reporting to jail in a matter of w…',\n",
      " \"'Special Report' anchor Bret Baier joins Sean Hannity on 'Hannity.'\"]\n",
      "\n",
      "Negative headlines:\n",
      "\n",
      "['It’s clear how China sees the coronavirus pandemic: Not simply, or even primarily, as a public health disaster in which thousands are dying, but as part of a larger geopolitical struggle for '\n",
      " 'control of the world.',\n",
      " 'In her Fox Nation documentary series “Lara Logan Has No Agenda,” Logan takes a deep look at liberal bias in the media and how it impacts news coverage, public policy and the lives of those who '\n",
      " 'have been the targets of what she considers unfair coverage.',\n",
      " 'Arsonists in the United Kingdom and across Europe are destroying cell phone towers. Vodafone says that 20 towers were attacked, including one serving a field hospital treating COVID-19 patients. '\n",
      " 'The arsonists believe that 5G networks are helping spread corona…',\n",
      " '\"Real Time\" host Bill Maher closed his show on Friday by blasting the media for its \"panic porn\" coverage of the coronavirus pandemic.',\n",
      " 'A protest of more than 200 demonstrators broke out in Southern California on Friday against the state’s stay-at-home-orders in reaction to the coronavirus outbreak, according to reports.']\n"
     ]
    }
   ],
   "source": [
    "from pprint import pprint\n",
    "\n",
    "print(\"Positive headlines:\\n\")\n",
    "pprint(list(fox_df[fox_df['label'] == 1].headline)[:5], width=200)\n",
    "\n",
    "print(\"\\nNegative headlines:\\n\")\n",
    "pprint(list(fox_df[fox_df['label'] == -1].headline)[:5], width=200)"
   ]
  },
  {
   "cell_type": "markdown",
   "metadata": {},
   "source": [
    "### CNN News Headline Sample"
   ]
  },
  {
   "cell_type": "code",
   "execution_count": 165,
   "metadata": {},
   "outputs": [
    {
     "name": "stdout",
     "output_type": "stream",
     "text": [
      "Positive headlines:\n",
      "\n",
      "['There is a global expectation that life will inch back to normal if enough people develop immunity against the novel coronavirus. As scientists race to develop antibody tests, politicians have '\n",
      " 'promised to reopen their economies once such testing is available.',\n",
      " \"You sure are spending a lot more time on that phone of yours nowadays, aren't you? But perhaps you've tired of Sudoku, your eyes glaze over during Netflix binges and you haven't touched Candy \"\n",
      " 'Crush since you started seeing the game in your dreams.',\n",
      " 'A keen runner, 73-year-old Rajinder Singh was initially at a loss as to how he was going to keep fit with Britain under lockdown.',\n",
      " \"Miami's police chief Jorge Colina has tested positive for coronavirus, CNN affiliates report.\",\n",
      " 'Sea turtles in Florida are nesting in peace -- for now.']\n",
      "\n",
      "Negative headlines:\n",
      "\n",
      "[\"The coronavirus pandemic stripped the city of its soulful clamor, but there's one sound that it could never silence: the good old New York accent. For filmmaker Nicolas Heller, it's what he missed \"\n",
      " 'most -- which is why he decided to launch a contest to see who…',\n",
      " 'The virus that causes Covid-19 has been relentlessly preying on adults around the world for months, while largely sparing children. Although children are not directly impacted by the illness, '\n",
      " 'their health is undoubtedly being affected by our collective new re…',\n",
      " \"Facing a dire shortage of medical equipment as coronavirus cases increase, healthcare workers fear Japan's medical system is already on the verge of collapse.\",\n",
      " \"Ten nurses were placed on administrative leave from Providence Saint John's Health Center in Santa Monica, California, for demanding they be given N95 masks while treating Covid-19 patients, two \"\n",
      " 'of the nurses told CNN.',\n",
      " 'Far more people may have been infected with Covid-19 than have been confirmed by health officials in Santa Clara County, California, according to a study released Friday in preprint.']\n"
     ]
    }
   ],
   "source": [
    "from pprint import pprint\n",
    "\n",
    "print(\"Positive headlines:\\n\")\n",
    "pprint(list(cnn_df[cnn_df['label'] == 1].headline)[:5], width=200)\n",
    "\n",
    "print(\"\\nNegative headlines:\\n\")\n",
    "pprint(list(cnn_df[cnn_df['label'] == -1].headline)[:5], width=200)"
   ]
  },
  {
   "cell_type": "markdown",
   "metadata": {},
   "source": [
    "### Plot the distribution of positive, negative, and neutral articles for Fox News"
   ]
  },
  {
   "cell_type": "code",
   "execution_count": 166,
   "metadata": {},
   "outputs": [
    {
     "data": {
      "image/png": "[encoded data removed]",
      "text/plain": [
       "<Figure size 576x576 with 1 Axes>"
      ]
     },
     "metadata": {},
     "output_type": "display_data"
    }
   ],
   "source": [
    "import matplotlib.pyplot as plt\n",
    "sns.set(style='darkgrid', context='talk', palette='hot')\n",
    "fig, ax = plt.subplots(figsize=(8, 8))\n",
    "\n",
    "counts = fox_df.label.value_counts(normalize=True) * 100\n",
    "\n",
    "sns.barplot(x=counts.index, y=counts, ax=ax)\n",
    "\n",
    "ax.set_xticklabels(['Negative', 'Neutral', 'Positive'])\n",
    "ax.set_ylabel(\"Percentage\")\n",
    "ax.set_title('Fox News COVID-19 Headline Sentiment')\n",
    "\n",
    "plt.show()"
   ]
  },
  {
   "cell_type": "markdown",
   "metadata": {},
   "source": [
    "### Plot the distribution of positive, negative, and neutral articles for CNN News"
   ]
  },
  {
   "cell_type": "code",
   "execution_count": 167,
   "metadata": {},
   "outputs": [
    {
     "data": {
      "image/png": "[encoded data removed]",
      "text/plain": [
       "<Figure size 576x576 with 1 Axes>"
      ]
     },
     "metadata": {},
     "output_type": "display_data"
    }
   ],
   "source": [
    "sns.set(style='darkgrid', context='talk', palette='cool')\n",
    "fig, ax = plt.subplots(figsize=(8, 8))\n",
    "\n",
    "counts = cnn_df.label.value_counts(normalize=True) * 100\n",
    "\n",
    "sns.barplot(x=counts.index, y=counts, ax=ax)\n",
    "\n",
    "ax.set_xticklabels(['Negative', 'Neutral', 'Positive'])\n",
    "ax.set_ylabel(\"Percentage\")\n",
    "ax.set_title('CNN News COVID-19 Headline Sentiment')\n",
    "\n",
    "plt.show()"
   ]
  },
  {
   "cell_type": "markdown",
   "metadata": {},
   "source": [
    "### Function to remove stopwords and punctuation and tokenize"
   ]
  },
  {
   "cell_type": "code",
   "execution_count": 168,
   "metadata": {},
   "outputs": [],
   "source": [
    "from nltk.tokenize import word_tokenize, RegexpTokenizer\n",
    "from nltk.corpus import stopwords\n",
    "\n",
    "tokenizer = RegexpTokenizer(r'\\w+')\n",
    "stop_words = stopwords.words('english')\n",
    "\n",
    "def process_text(headlines):\n",
    "    tokens = []\n",
    "    for line in headlines:\n",
    "        toks = tokenizer.tokenize(line)\n",
    "        toks = [t.lower() for t in toks if t.lower() not in stop_words]\n",
    "        tokens.extend(toks)\n",
    "    return tokens"
   ]
  },
  {
   "cell_type": "markdown",
   "metadata": {},
   "source": [
    "### Most frequent words associated with positive headlines on Fox"
   ]
  },
  {
   "cell_type": "code",
   "execution_count": 169,
   "metadata": {},
   "outputs": [
    {
     "data": {
      "text/plain": [
       "[('coronavirus', 12),\n",
       " ('trump', 8),\n",
       " ('president', 7),\n",
       " ('pandemic', 7),\n",
       " ('new', 6),\n",
       " ('china', 5),\n",
       " ('help', 5),\n",
       " ('fox', 5),\n",
       " ('back', 4),\n",
       " ('friday', 4),\n",
       " ('group', 4),\n",
       " ('news', 4),\n",
       " ('report', 3),\n",
       " ('anchor', 3),\n",
       " ('hannity', 3),\n",
       " ('said', 3),\n",
       " ('people', 3),\n",
       " ('work', 3),\n",
       " ('economy', 3),\n",
       " ('york', 3),\n",
       " ('biden', 3),\n",
       " ('former', 3),\n",
       " ('businesses', 3),\n",
       " ('across', 3),\n",
       " ('special', 2)]"
      ]
     },
     "execution_count": 169,
     "metadata": {},
     "output_type": "execute_result"
    }
   ],
   "source": [
    "pos_lines = list(fox_df[fox_df.label == 1].headline)\n",
    "\n",
    "pos_tokens = process_text(pos_lines)\n",
    "pos_freq = nltk.FreqDist(pos_tokens)\n",
    "\n",
    "pos_freq.most_common(25)"
   ]
  },
  {
   "cell_type": "markdown",
   "metadata": {},
   "source": [
    "### Most frequent words associated with negative headlines on Fox"
   ]
  },
  {
   "cell_type": "code",
   "execution_count": 170,
   "metadata": {},
   "outputs": [
    {
     "data": {
      "text/plain": [
       "[('coronavirus', 20),\n",
       " ('friday', 11),\n",
       " ('pandemic', 10),\n",
       " ('health', 5),\n",
       " ('state', 5),\n",
       " ('former', 5),\n",
       " ('fox', 4),\n",
       " ('media', 4),\n",
       " ('news', 4),\n",
       " ('home', 4),\n",
       " ('outbreak', 4),\n",
       " ('reports', 4),\n",
       " ('new', 4),\n",
       " ('000', 4),\n",
       " ('china', 3),\n",
       " ('nation', 3),\n",
       " ('coverage', 3),\n",
       " ('one', 3),\n",
       " ('covid', 3),\n",
       " ('19', 3),\n",
       " ('bill', 3),\n",
       " ('told', 3),\n",
       " ('must', 3),\n",
       " ('democratic', 3),\n",
       " ('national', 3)]"
      ]
     },
     "execution_count": 170,
     "metadata": {},
     "output_type": "execute_result"
    }
   ],
   "source": [
    "neg_lines = list(fox_df[fox_df.label == -1].headline)\n",
    "\n",
    "neg_tokens = process_text(neg_lines)\n",
    "neg_freq = nltk.FreqDist(neg_tokens)\n",
    "\n",
    "neg_freq.most_common(25)"
   ]
  },
  {
   "cell_type": "markdown",
   "metadata": {},
   "source": [
    "### Most frequent words associated with positive headlines on CNN"
   ]
  },
  {
   "cell_type": "code",
   "execution_count": 171,
   "metadata": {},
   "outputs": [
    {
     "data": {
      "text/plain": [
       "[('coronavirus', 23),\n",
       " ('pandemic', 9),\n",
       " ('positive', 5),\n",
       " ('people', 4),\n",
       " ('one', 4),\n",
       " ('trump', 4),\n",
       " ('world', 4),\n",
       " ('life', 3),\n",
       " ('year', 3),\n",
       " ('across', 3),\n",
       " ('officials', 3),\n",
       " ('disease', 3),\n",
       " ('outbreak', 3),\n",
       " ('president', 3),\n",
       " ('could', 3),\n",
       " ('covid', 3),\n",
       " ('19', 3),\n",
       " ('normal', 2),\n",
       " ('develop', 2),\n",
       " ('novel', 2),\n",
       " ('reopen', 2),\n",
       " ('testing', 2),\n",
       " ('time', 2),\n",
       " ('started', 2),\n",
       " ('old', 2)]"
      ]
     },
     "execution_count": 171,
     "metadata": {},
     "output_type": "execute_result"
    }
   ],
   "source": [
    "pos_lines = list(cnn_df[cnn_df.label == 1].headline)\n",
    "\n",
    "pos_tokens = process_text(pos_lines)\n",
    "pos_freq = nltk.FreqDist(pos_tokens)\n",
    "\n",
    "pos_freq.most_common(25)"
   ]
  },
  {
   "cell_type": "markdown",
   "metadata": {},
   "source": [
    "### Most frequent words associated with negative headlines on CNN"
   ]
  },
  {
   "cell_type": "code",
   "execution_count": 172,
   "metadata": {},
   "outputs": [
    {
     "data": {
      "text/plain": [
       "[('coronavirus', 27),\n",
       " ('pandemic', 13),\n",
       " ('health', 8),\n",
       " ('new', 7),\n",
       " ('covid', 7),\n",
       " ('19', 7),\n",
       " ('one', 5),\n",
       " ('president', 5),\n",
       " ('virus', 4),\n",
       " ('around', 4),\n",
       " ('workers', 4),\n",
       " ('cnn', 4),\n",
       " ('people', 4),\n",
       " ('friday', 4),\n",
       " ('dr', 4),\n",
       " ('state', 4),\n",
       " ('crisis', 4),\n",
       " ('us', 4),\n",
       " ('world', 3),\n",
       " ('medical', 3),\n",
       " ('cases', 3),\n",
       " ('officials', 3),\n",
       " ('made', 3),\n",
       " ('trump', 3),\n",
       " ('response', 3)]"
      ]
     },
     "execution_count": 172,
     "metadata": {},
     "output_type": "execute_result"
    }
   ],
   "source": [
    "neg_lines = list(cnn_df[cnn_df.label == -1].headline)\n",
    "\n",
    "neg_tokens = process_text(neg_lines)\n",
    "neg_freq = nltk.FreqDist(neg_tokens)\n",
    "\n",
    "neg_freq.most_common(25)"
   ]
  },
  {
   "cell_type": "markdown",
   "metadata": {},
   "source": [
    "# Summary and Interesting Findings"
   ]
  },
  {
   "cell_type": "markdown",
   "metadata": {},
   "source": [
    "Interestingly, the distribution of positive, negative, and neutral headlines was more or less the same on both news platforms. \n",
    "\n",
    "However, if you look at the frequency distribution for positive word tokens on Fox News you will find that **'trump'** and **'president'** are very highly ranked. **'hannity'** and **'economy'** also rank quite high. On the negative side you will find that **'democratic'** made the cut for the top 25 common words associated with negative headlines.\n",
    "\n",
    "If you look at the frequency distribution for positive word tokens on CNN News, you will find that **'people'** and **'positive'** exist on the list of the top 25 most common positive-headline associated tokens. The word **'trump'** ranks significantly lower than on Fox. On the negative side, **'president'** has almost as many negative mentions as positive mentions on CNN. "
   ]
  },
  {
   "cell_type": "markdown",
   "metadata": {},
   "source": [
    "# Lack of Data"
   ]
  },
  {
   "cell_type": "markdown",
   "metadata": {},
   "source": [
    "Unfortunately I was limited to only 100 articles, the data would be much more interesting with thousands of articles. Also I think 'coronavirus' should be added to the list of stopwords. "
   ]
  }
 ],
 "metadata": {
  "kernelspec": {
   "display_name": "Python 3",
   "language": "python",
   "name": "python3"
  },
  "language_info": {
   "codemirror_mode": {
    "name": "ipython",
    "version": 3
   },
   "file_extension": ".py",
   "mimetype": "text/x-python",
   "name": "python",
   "nbconvert_exporter": "python",
   "pygments_lexer": "ipython3",
   "version": "3.7.6"
  }
 },
 "nbformat": 4,
 "nbformat_minor": 4
}
